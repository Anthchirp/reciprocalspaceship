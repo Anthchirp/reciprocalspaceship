{
 "cells": [
  {
   "cell_type": "markdown",
   "metadata": {},
   "source": [
    "# Anomalous Difference Map  \n",
    "\n",
    "In [Basics](1_basics.ipynb), we loaded a room-temperature dataset that was collected at ~6550 eV of tetragonal HEWL. We then computed the $CC_{1/2}$ and $CC_{anom}$ for this data in [Merging Statistics](2_mergingstats.ipynb) and observed that there was significant anomalous signal. Let's now use that data to generate an anomalous difference map based on the anomalous scattering from the native sulfur atoms."
   ]
  },
  {
   "cell_type": "code",
   "execution_count": 1,
   "metadata": {},
   "outputs": [],
   "source": [
    "import reciprocalspaceship as rs\n",
    "import matplotlib.pyplot as plt\n",
    "import seaborn as sns\n",
    "sns.set_context(\"notebook\", font_scale=1.3)\n",
    "import numpy as np"
   ]
  },
  {
   "cell_type": "code",
   "execution_count": 2,
   "metadata": {},
   "outputs": [
    {
     "name": "stdout",
     "output_type": "stream",
     "text": [
      "0.9.4\n"
     ]
    }
   ],
   "source": [
    "print(rs.__version__)"
   ]
  },
  {
   "cell_type": "code",
   "execution_count": 3,
   "metadata": {},
   "outputs": [
    {
     "data": {
      "text/html": [
       "<div>\n",
       "<style scoped>\n",
       "    .dataframe tbody tr th:only-of-type {\n",
       "        vertical-align: middle;\n",
       "    }\n",
       "\n",
       "    .dataframe tbody tr th {\n",
       "        vertical-align: top;\n",
       "    }\n",
       "\n",
       "    .dataframe thead th {\n",
       "        text-align: right;\n",
       "    }\n",
       "</style>\n",
       "<table border=\"1\" class=\"dataframe\">\n",
       "  <thead>\n",
       "    <tr style=\"text-align: right;\">\n",
       "      <th></th>\n",
       "      <th></th>\n",
       "      <th></th>\n",
       "      <th>I(+)</th>\n",
       "      <th>SIGI(+)</th>\n",
       "      <th>I(-)</th>\n",
       "      <th>SIGI(-)</th>\n",
       "      <th>N(+)</th>\n",
       "      <th>N(-)</th>\n",
       "    </tr>\n",
       "    <tr>\n",
       "      <th>H</th>\n",
       "      <th>K</th>\n",
       "      <th>L</th>\n",
       "      <th></th>\n",
       "      <th></th>\n",
       "      <th></th>\n",
       "      <th></th>\n",
       "      <th></th>\n",
       "      <th></th>\n",
       "    </tr>\n",
       "  </thead>\n",
       "  <tbody>\n",
       "    <tr>\n",
       "      <th rowspan=\"4\" valign=\"top\">0</th>\n",
       "      <th rowspan=\"4\" valign=\"top\">0</th>\n",
       "      <th>4</th>\n",
       "      <td>661.29987</td>\n",
       "      <td>21.953098</td>\n",
       "      <td>661.29987</td>\n",
       "      <td>21.953098</td>\n",
       "      <td>16</td>\n",
       "      <td>16</td>\n",
       "    </tr>\n",
       "    <tr>\n",
       "      <th>8</th>\n",
       "      <td>3229.649</td>\n",
       "      <td>105.980934</td>\n",
       "      <td>3229.649</td>\n",
       "      <td>105.980934</td>\n",
       "      <td>16</td>\n",
       "      <td>16</td>\n",
       "    </tr>\n",
       "    <tr>\n",
       "      <th>12</th>\n",
       "      <td>1361.8672</td>\n",
       "      <td>43.06085</td>\n",
       "      <td>1361.8672</td>\n",
       "      <td>43.06085</td>\n",
       "      <td>16</td>\n",
       "      <td>16</td>\n",
       "    </tr>\n",
       "    <tr>\n",
       "      <th>16</th>\n",
       "      <td>4124.393</td>\n",
       "      <td>196.89108</td>\n",
       "      <td>4124.393</td>\n",
       "      <td>196.89108</td>\n",
       "      <td>8</td>\n",
       "      <td>8</td>\n",
       "    </tr>\n",
       "    <tr>\n",
       "      <th>1</th>\n",
       "      <th>0</th>\n",
       "      <th>1</th>\n",
       "      <td>559.33685</td>\n",
       "      <td>8.6263</td>\n",
       "      <td>559.33685</td>\n",
       "      <td>8.6263</td>\n",
       "      <td>64</td>\n",
       "      <td>64</td>\n",
       "    </tr>\n",
       "  </tbody>\n",
       "</table>\n",
       "</div>"
      ],
      "text/plain": [
       "            I(+)    SIGI(+)      I(-)    SIGI(-)  N(+)  N(-)\n",
       "H K L                                                       \n",
       "0 0 4  661.29987  21.953098 661.29987  21.953098    16    16\n",
       "    8   3229.649 105.980934  3229.649 105.980934    16    16\n",
       "    12 1361.8672   43.06085 1361.8672   43.06085    16    16\n",
       "    16  4124.393  196.89108  4124.393  196.89108     8     8\n",
       "1 0 1  559.33685     8.6263 559.33685     8.6263    64    64"
      ]
     },
     "execution_count": 3,
     "metadata": {},
     "output_type": "execute_result"
    }
   ],
   "source": [
    "# Load data and extract relevant columns\n",
    "refltable = rs.read_mtz(\"data/HEWL_SSAD_24IDC.mtz\")\n",
    "refltable = refltable[[\"I(+)\", \"SIGI(+)\", \"I(-)\", \"SIGI(-)\", \"N(+)\", \"N(-)\"]]\n",
    "refltable.head()"
   ]
  },
  {
   "cell_type": "code",
   "execution_count": 4,
   "metadata": {},
   "outputs": [
    {
     "name": "stdout",
     "output_type": "stream",
     "text": [
      "Number of reflections: 12542\n"
     ]
    }
   ],
   "source": [
    "print(f\"Number of reflections: {len(refltable)}\")"
   ]
  },
  {
   "cell_type": "markdown",
   "metadata": {},
   "source": [
    "---\n",
    "### Background\n",
    "\n",
    "Since this dataset was collected at a single wavelength, we can compute an anomalous difference map from the anomalous structure factor amplitudes, $|F_{A}|$, and their phase shifts, $\\alpha$, relative to the computed phases from an isomorphous structure of tetragonal HEWL. We will compute $|F_{A}|$ based on the following:\n",
    "\n",
    "\\begin{equation*}\n",
    "|F_{A}| \\propto \\Delta_{\\mathrm{ano}} = |F_{HKL}| - |F_{\\overline{HKL}}|\n",
    "\\end{equation*}\n",
    "\n",
    "We will then use a model refined from this data to obtain the phases, $\\phi_c$, which can be used to determine the phases for the anomalous contribution, $\\phi_A$, using the phase shift, $\\alpha$:\n",
    "\n",
    "\\begin{equation*}\n",
    "\\phi_A = \\phi_c - \\alpha\n",
    "\\end{equation*}\n",
    "\n",
    "Since this is a SAD experiment, we can assume $\\alpha$ is 90˚ when $\\Delta_{\\mathrm{ano}}$ is negative and 270˚ when it is positive. This formalism is based on [Thorn and Sheldrick, J Appl. Cryst. (2011)](https://www.ncbi.nlm.nih.gov/pmc/articles/PMC3246834/pdf/j-44-01285.pdf)."
   ]
  },
  {
   "cell_type": "markdown",
   "metadata": {},
   "source": [
    "---\n",
    "### Computing Structure Factor Amplitudes\n",
    "\n",
    "The dataset being used is the direct output from running scaling and merging in [AIMLESS](http://www.ccp4.ac.uk/html/aimless.html). As a first processing step, we need to convert the observed merged intensities, $I(+)$ and $I(-)$, into observed structure factor amplitudes, $F(+)$ and $F(-)$."
   ]
  },
  {
   "cell_type": "code",
   "execution_count": 5,
   "metadata": {},
   "outputs": [
    {
     "data": {
      "text/html": [
       "<div>\n",
       "<style scoped>\n",
       "    .dataframe tbody tr th:only-of-type {\n",
       "        vertical-align: middle;\n",
       "    }\n",
       "\n",
       "    .dataframe tbody tr th {\n",
       "        vertical-align: top;\n",
       "    }\n",
       "\n",
       "    .dataframe thead th {\n",
       "        text-align: right;\n",
       "    }\n",
       "</style>\n",
       "<table border=\"1\" class=\"dataframe\">\n",
       "  <thead>\n",
       "    <tr style=\"text-align: right;\">\n",
       "      <th></th>\n",
       "      <th></th>\n",
       "      <th></th>\n",
       "      <th>I</th>\n",
       "      <th>SIGI</th>\n",
       "      <th>N</th>\n",
       "    </tr>\n",
       "    <tr>\n",
       "      <th>H</th>\n",
       "      <th>K</th>\n",
       "      <th>L</th>\n",
       "      <th></th>\n",
       "      <th></th>\n",
       "      <th></th>\n",
       "    </tr>\n",
       "  </thead>\n",
       "  <tbody>\n",
       "    <tr>\n",
       "      <th rowspan=\"5\" valign=\"top\">-45</th>\n",
       "      <th>-10</th>\n",
       "      <th>-1</th>\n",
       "      <td>6.185645</td>\n",
       "      <td>2.932488</td>\n",
       "      <td>4</td>\n",
       "    </tr>\n",
       "    <tr>\n",
       "      <th rowspan=\"2\" valign=\"top\">-9</th>\n",
       "      <th>-2</th>\n",
       "      <td>27.028767</td>\n",
       "      <td>3.8457258</td>\n",
       "      <td>4</td>\n",
       "    </tr>\n",
       "    <tr>\n",
       "      <th>-1</th>\n",
       "      <td>3.0018542</td>\n",
       "      <td>2.6649861</td>\n",
       "      <td>4</td>\n",
       "    </tr>\n",
       "    <tr>\n",
       "      <th rowspan=\"2\" valign=\"top\">-8</th>\n",
       "      <th>-3</th>\n",
       "      <td>-0.9806365</td>\n",
       "      <td>2.7741797</td>\n",
       "      <td>4</td>\n",
       "    </tr>\n",
       "    <tr>\n",
       "      <th>-2</th>\n",
       "      <td>12.085027</td>\n",
       "      <td>3.0270035</td>\n",
       "      <td>4</td>\n",
       "    </tr>\n",
       "  </tbody>\n",
       "</table>\n",
       "</div>"
      ],
      "text/plain": [
       "                    I      SIGI  N\n",
       "H   K   L                         \n",
       "-45 -10 -1   6.185645  2.932488  4\n",
       "    -9  -2  27.028767 3.8457258  4\n",
       "        -1  3.0018542 2.6649861  4\n",
       "    -8  -3 -0.9806365 2.7741797  4\n",
       "        -2  12.085027 3.0270035  4"
      ]
     },
     "execution_count": 5,
     "metadata": {},
     "output_type": "execute_result"
    }
   ],
   "source": [
    "# Stack intensities from 2-column anomalous to 1-column format\n",
    "stacked = refltable.stack_anomalous()\n",
    "stacked = stacked.loc[stacked[\"N\"] > 0]\n",
    "stacked.sort_index(inplace=True)\n",
    "stacked.head()"
   ]
  },
  {
   "cell_type": "markdown",
   "metadata": {},
   "source": [
    "In order to get structure factor amplitudes, we must first account for mean intensities that are negative due to background subtraction. We will use a method based on the Bayesian approach first proposed by [French and Wilson](https://scripts.iucr.org/cgi-bin/paper?a15572) to ensure that all intensities are strictly positive. This method is implemented in `rs.algorithms.scale_merged_intensities()`."
   ]
  },
  {
   "cell_type": "code",
   "execution_count": 6,
   "metadata": {},
   "outputs": [],
   "source": [
    "scaled = rs.algorithms.scale_merged_intensities(stacked, \"I\", \"SIGI\", \n",
    "                                                mean_intensity_method=\"anisotropic\")"
   ]
  },
  {
   "cell_type": "code",
   "execution_count": 7,
   "metadata": {},
   "outputs": [
    {
     "data": {
      "text/html": [
       "<div>\n",
       "<style scoped>\n",
       "    .dataframe tbody tr th:only-of-type {\n",
       "        vertical-align: middle;\n",
       "    }\n",
       "\n",
       "    .dataframe tbody tr th {\n",
       "        vertical-align: top;\n",
       "    }\n",
       "\n",
       "    .dataframe thead th {\n",
       "        text-align: right;\n",
       "    }\n",
       "</style>\n",
       "<table border=\"1\" class=\"dataframe\">\n",
       "  <thead>\n",
       "    <tr style=\"text-align: right;\">\n",
       "      <th></th>\n",
       "      <th></th>\n",
       "      <th></th>\n",
       "      <th>I</th>\n",
       "      <th>SIGI</th>\n",
       "      <th>N</th>\n",
       "      <th>dHKL</th>\n",
       "      <th>CENTRIC</th>\n",
       "      <th>FW-I</th>\n",
       "      <th>FW-SIGI</th>\n",
       "      <th>FW-F</th>\n",
       "      <th>FW-SIGF</th>\n",
       "    </tr>\n",
       "    <tr>\n",
       "      <th>H</th>\n",
       "      <th>K</th>\n",
       "      <th>L</th>\n",
       "      <th></th>\n",
       "      <th></th>\n",
       "      <th></th>\n",
       "      <th></th>\n",
       "      <th></th>\n",
       "      <th></th>\n",
       "      <th></th>\n",
       "      <th></th>\n",
       "      <th></th>\n",
       "    </tr>\n",
       "  </thead>\n",
       "  <tbody>\n",
       "    <tr>\n",
       "      <th rowspan=\"5\" valign=\"top\">-45</th>\n",
       "      <th>-10</th>\n",
       "      <th>-1</th>\n",
       "      <td>6.185645</td>\n",
       "      <td>2.932488</td>\n",
       "      <td>4</td>\n",
       "      <td>1.7194303</td>\n",
       "      <td>False</td>\n",
       "      <td>6.1471047</td>\n",
       "      <td>2.7739754</td>\n",
       "      <td>2.4032679</td>\n",
       "      <td>0.6094333</td>\n",
       "    </tr>\n",
       "    <tr>\n",
       "      <th rowspan=\"2\" valign=\"top\">-9</th>\n",
       "      <th>-2</th>\n",
       "      <td>27.028767</td>\n",
       "      <td>3.8457258</td>\n",
       "      <td>4</td>\n",
       "      <td>1.7217723</td>\n",
       "      <td>False</td>\n",
       "      <td>26.716537</td>\n",
       "      <td>3.8457258</td>\n",
       "      <td>5.1551414</td>\n",
       "      <td>0.37557602</td>\n",
       "    </tr>\n",
       "    <tr>\n",
       "      <th>-1</th>\n",
       "      <td>3.0018542</td>\n",
       "      <td>2.6649861</td>\n",
       "      <td>4</td>\n",
       "      <td>1.727153</td>\n",
       "      <td>False</td>\n",
       "      <td>3.5474997</td>\n",
       "      <td>2.1485696</td>\n",
       "      <td>1.7800175</td>\n",
       "      <td>0.6156602</td>\n",
       "    </tr>\n",
       "    <tr>\n",
       "      <th rowspan=\"2\" valign=\"top\">-8</th>\n",
       "      <th>-3</th>\n",
       "      <td>-0.9806365</td>\n",
       "      <td>2.7741797</td>\n",
       "      <td>4</td>\n",
       "      <td>1.7197415</td>\n",
       "      <td>False</td>\n",
       "      <td>1.8468517</td>\n",
       "      <td>1.4775624</td>\n",
       "      <td>1.2411455</td>\n",
       "      <td>0.5535428</td>\n",
       "    </tr>\n",
       "    <tr>\n",
       "      <th>-2</th>\n",
       "      <td>12.085027</td>\n",
       "      <td>3.0270035</td>\n",
       "      <td>4</td>\n",
       "      <td>1.7287054</td>\n",
       "      <td>False</td>\n",
       "      <td>11.893286</td>\n",
       "      <td>3.02595</td>\n",
       "      <td>3.4186602</td>\n",
       "      <td>0.45392564</td>\n",
       "    </tr>\n",
       "  </tbody>\n",
       "</table>\n",
       "</div>"
      ],
      "text/plain": [
       "                    I      SIGI  N      dHKL  CENTRIC      FW-I   FW-SIGI  \\\n",
       "H   K   L                                                                   \n",
       "-45 -10 -1   6.185645  2.932488  4 1.7194303    False 6.1471047 2.7739754   \n",
       "    -9  -2  27.028767 3.8457258  4 1.7217723    False 26.716537 3.8457258   \n",
       "        -1  3.0018542 2.6649861  4  1.727153    False 3.5474997 2.1485696   \n",
       "    -8  -3 -0.9806365 2.7741797  4 1.7197415    False 1.8468517 1.4775624   \n",
       "        -2  12.085027 3.0270035  4 1.7287054    False 11.893286   3.02595   \n",
       "\n",
       "                FW-F    FW-SIGF  \n",
       "H   K   L                        \n",
       "-45 -10 -1 2.4032679  0.6094333  \n",
       "    -9  -2 5.1551414 0.37557602  \n",
       "        -1 1.7800175  0.6156602  \n",
       "    -8  -3 1.2411455  0.5535428  \n",
       "        -2 3.4186602 0.45392564  "
      ]
     },
     "execution_count": 7,
     "metadata": {},
     "output_type": "execute_result"
    }
   ],
   "source": [
    "scaled.head()"
   ]
  },
  {
   "cell_type": "markdown",
   "metadata": {},
   "source": [
    "French-Wilson scaling leaves large intensities relatively unchanged, but rescales negative and small intensities to be positive by imposing Wilson's distribution as a prior:"
   ]
  },
  {
   "cell_type": "code",
   "execution_count": 8,
   "metadata": {},
   "outputs": [
    {
     "data": {
      "image/png": "[encoded data removed]",
      "text/plain": [
       "<Figure size 432x432 with 1 Axes>"
      ]
     },
     "metadata": {
      "needs_background": "light"
     },
     "output_type": "display_data"
    }
   ],
   "source": [
    "x = np.linspace(-3, 10000, 2)\n",
    "plt.figure(figsize=(6, 6))\n",
    "ax = plt.gca()\n",
    "plt.plot(x, x, '--r', scalex=False, scaley=True)\n",
    "plt.plot(scaled[\"I\"], scaled[\"FW-I\"], \"k.\", alpha=0.25)\n",
    "plt.plot(plt.xlim(), plt.xlim(), '--r', scalex=False, scaley=True)\n",
    "plt.xlabel(\"Merged Intensity (AIMLESS)\")\n",
    "plt.ylabel(\"Rescaled Intensity\")\n",
    "plt.xscale(\"log\")\n",
    "plt.yscale(\"log\")\n",
    "plt.xlim(right=1e4)\n",
    "plt.ylim(top=1e4)\n",
    "\n",
    "# Inset\n",
    "axins = ax.inset_axes([0.1, 0.5, 0.43, 0.43])\n",
    "axins.plot(scaled[\"I\"], scaled[\"FW-I\"], \"k.\", alpha=0.25)\n",
    "axins.plot(x, x, '--r')\n",
    "axins.set_xlim(-3, 10)\n",
    "axins.set_ylim(-3, 10)\n",
    "axins.grid(linestyle=\"--\")\n",
    "\n",
    "plt.show()"
   ]
  },
  {
   "cell_type": "code",
   "execution_count": 9,
   "metadata": {},
   "outputs": [],
   "source": [
    "# Remove extra columns\n",
    "scaled = scaled[[\"FW-F\", \"FW-SIGF\", \"N\"]]\n",
    "\n",
    "# \"Unstack\" anomalous data from one-column to two-column format\n",
    "anom = scaled.unstack_anomalous([\"FW-F\", \"FW-SIGF\", \"N\"]).dropna()"
   ]
  },
  {
   "cell_type": "code",
   "execution_count": 10,
   "metadata": {},
   "outputs": [
    {
     "data": {
      "text/html": [
       "<div>\n",
       "<style scoped>\n",
       "    .dataframe tbody tr th:only-of-type {\n",
       "        vertical-align: middle;\n",
       "    }\n",
       "\n",
       "    .dataframe tbody tr th {\n",
       "        vertical-align: top;\n",
       "    }\n",
       "\n",
       "    .dataframe thead th {\n",
       "        text-align: right;\n",
       "    }\n",
       "</style>\n",
       "<table border=\"1\" class=\"dataframe\">\n",
       "  <thead>\n",
       "    <tr style=\"text-align: right;\">\n",
       "      <th></th>\n",
       "      <th></th>\n",
       "      <th></th>\n",
       "      <th>FW-F(+)</th>\n",
       "      <th>FW-SIGF(+)</th>\n",
       "      <th>N(+)</th>\n",
       "      <th>FW-F(-)</th>\n",
       "      <th>FW-SIGF(-)</th>\n",
       "      <th>N(-)</th>\n",
       "    </tr>\n",
       "    <tr>\n",
       "      <th>H</th>\n",
       "      <th>K</th>\n",
       "      <th>L</th>\n",
       "      <th></th>\n",
       "      <th></th>\n",
       "      <th></th>\n",
       "      <th></th>\n",
       "      <th></th>\n",
       "      <th></th>\n",
       "    </tr>\n",
       "  </thead>\n",
       "  <tbody>\n",
       "    <tr>\n",
       "      <th rowspan=\"4\" valign=\"top\">0</th>\n",
       "      <th rowspan=\"4\" valign=\"top\">0</th>\n",
       "      <th>4</th>\n",
       "      <td>25.7036</td>\n",
       "      <td>0.4273095</td>\n",
       "      <td>16</td>\n",
       "      <td>25.7036</td>\n",
       "      <td>0.4273095</td>\n",
       "      <td>16</td>\n",
       "    </tr>\n",
       "    <tr>\n",
       "      <th>8</th>\n",
       "      <td>56.794975</td>\n",
       "      <td>0.93358195</td>\n",
       "      <td>16</td>\n",
       "      <td>56.794975</td>\n",
       "      <td>0.93358195</td>\n",
       "      <td>16</td>\n",
       "    </tr>\n",
       "    <tr>\n",
       "      <th>12</th>\n",
       "      <td>36.885887</td>\n",
       "      <td>0.5840336</td>\n",
       "      <td>16</td>\n",
       "      <td>36.885887</td>\n",
       "      <td>0.5840336</td>\n",
       "      <td>16</td>\n",
       "    </tr>\n",
       "    <tr>\n",
       "      <th>16</th>\n",
       "      <td>64.02966</td>\n",
       "      <td>1.5395098</td>\n",
       "      <td>8</td>\n",
       "      <td>64.02966</td>\n",
       "      <td>1.5395098</td>\n",
       "      <td>8</td>\n",
       "    </tr>\n",
       "    <tr>\n",
       "      <th>1</th>\n",
       "      <th>0</th>\n",
       "      <th>1</th>\n",
       "      <td>23.647089</td>\n",
       "      <td>0.18242109</td>\n",
       "      <td>64</td>\n",
       "      <td>23.647089</td>\n",
       "      <td>0.18242109</td>\n",
       "      <td>64</td>\n",
       "    </tr>\n",
       "  </tbody>\n",
       "</table>\n",
       "</div>"
      ],
      "text/plain": [
       "         FW-F(+)  FW-SIGF(+)  N(+)   FW-F(-)  FW-SIGF(-)  N(-)\n",
       "H K L                                                         \n",
       "0 0 4    25.7036   0.4273095    16   25.7036   0.4273095    16\n",
       "    8  56.794975  0.93358195    16 56.794975  0.93358195    16\n",
       "    12 36.885887   0.5840336    16 36.885887   0.5840336    16\n",
       "    16  64.02966   1.5395098     8  64.02966   1.5395098     8\n",
       "1 0 1  23.647089  0.18242109    64 23.647089  0.18242109    64"
      ]
     },
     "execution_count": 10,
     "metadata": {},
     "output_type": "execute_result"
    }
   ],
   "source": [
    "anom.head()"
   ]
  },
  {
   "cell_type": "code",
   "execution_count": 11,
   "metadata": {},
   "outputs": [],
   "source": [
    "# Compute differences\n",
    "dF    = np.abs(anom[\"FW-F(+)\"] - anom[\"FW-F(-)\"])\n",
    "sigDF = np.sqrt(anom[\"FW-SIGF(+)\"]**2 + anom[\"FW-SIGF(-)\"]**2)\n",
    "anom[\"ANOM\"] = rs.DataSeries(dF, dtype=\"SFAmplitude\")\n",
    "anom[\"SigANOM\"] = rs.DataSeries(sigDF, dtype=\"Stddev\")"
   ]
  },
  {
   "cell_type": "code",
   "execution_count": 12,
   "metadata": {},
   "outputs": [
    {
     "data": {
      "text/html": [
       "<div>\n",
       "<style scoped>\n",
       "    .dataframe tbody tr th:only-of-type {\n",
       "        vertical-align: middle;\n",
       "    }\n",
       "\n",
       "    .dataframe tbody tr th {\n",
       "        vertical-align: top;\n",
       "    }\n",
       "\n",
       "    .dataframe thead th {\n",
       "        text-align: right;\n",
       "    }\n",
       "</style>\n",
       "<table border=\"1\" class=\"dataframe\">\n",
       "  <thead>\n",
       "    <tr style=\"text-align: right;\">\n",
       "      <th></th>\n",
       "      <th></th>\n",
       "      <th></th>\n",
       "      <th>FW-F(+)</th>\n",
       "      <th>FW-SIGF(+)</th>\n",
       "      <th>N(+)</th>\n",
       "      <th>FW-F(-)</th>\n",
       "      <th>FW-SIGF(-)</th>\n",
       "      <th>N(-)</th>\n",
       "      <th>ANOM</th>\n",
       "      <th>SigANOM</th>\n",
       "    </tr>\n",
       "    <tr>\n",
       "      <th>H</th>\n",
       "      <th>K</th>\n",
       "      <th>L</th>\n",
       "      <th></th>\n",
       "      <th></th>\n",
       "      <th></th>\n",
       "      <th></th>\n",
       "      <th></th>\n",
       "      <th></th>\n",
       "      <th></th>\n",
       "      <th></th>\n",
       "    </tr>\n",
       "  </thead>\n",
       "  <tbody>\n",
       "    <tr>\n",
       "      <th rowspan=\"4\" valign=\"top\">0</th>\n",
       "      <th rowspan=\"4\" valign=\"top\">0</th>\n",
       "      <th>4</th>\n",
       "      <td>25.7036</td>\n",
       "      <td>0.4273095</td>\n",
       "      <td>16</td>\n",
       "      <td>25.7036</td>\n",
       "      <td>0.4273095</td>\n",
       "      <td>16</td>\n",
       "      <td>0.0</td>\n",
       "      <td>0.60430694</td>\n",
       "    </tr>\n",
       "    <tr>\n",
       "      <th>8</th>\n",
       "      <td>56.794975</td>\n",
       "      <td>0.93358195</td>\n",
       "      <td>16</td>\n",
       "      <td>56.794975</td>\n",
       "      <td>0.93358195</td>\n",
       "      <td>16</td>\n",
       "      <td>0.0</td>\n",
       "      <td>1.3202842</td>\n",
       "    </tr>\n",
       "    <tr>\n",
       "      <th>12</th>\n",
       "      <td>36.885887</td>\n",
       "      <td>0.5840336</td>\n",
       "      <td>16</td>\n",
       "      <td>36.885887</td>\n",
       "      <td>0.5840336</td>\n",
       "      <td>16</td>\n",
       "      <td>0.0</td>\n",
       "      <td>0.82594824</td>\n",
       "    </tr>\n",
       "    <tr>\n",
       "      <th>16</th>\n",
       "      <td>64.02966</td>\n",
       "      <td>1.5395098</td>\n",
       "      <td>8</td>\n",
       "      <td>64.02966</td>\n",
       "      <td>1.5395098</td>\n",
       "      <td>8</td>\n",
       "      <td>0.0</td>\n",
       "      <td>2.1771955</td>\n",
       "    </tr>\n",
       "    <tr>\n",
       "      <th>1</th>\n",
       "      <th>0</th>\n",
       "      <th>1</th>\n",
       "      <td>23.647089</td>\n",
       "      <td>0.18242109</td>\n",
       "      <td>64</td>\n",
       "      <td>23.647089</td>\n",
       "      <td>0.18242109</td>\n",
       "      <td>64</td>\n",
       "      <td>0.0</td>\n",
       "      <td>0.25798237</td>\n",
       "    </tr>\n",
       "  </tbody>\n",
       "</table>\n",
       "</div>"
      ],
      "text/plain": [
       "         FW-F(+)  FW-SIGF(+)  N(+)   FW-F(-)  FW-SIGF(-)  N(-)  ANOM  \\\n",
       "H K L                                                                  \n",
       "0 0 4    25.7036   0.4273095    16   25.7036   0.4273095    16   0.0   \n",
       "    8  56.794975  0.93358195    16 56.794975  0.93358195    16   0.0   \n",
       "    12 36.885887   0.5840336    16 36.885887   0.5840336    16   0.0   \n",
       "    16  64.02966   1.5395098     8  64.02966   1.5395098     8   0.0   \n",
       "1 0 1  23.647089  0.18242109    64 23.647089  0.18242109    64   0.0   \n",
       "\n",
       "          SigANOM  \n",
       "H K L              \n",
       "0 0 4  0.60430694  \n",
       "    8   1.3202842  \n",
       "    12 0.82594824  \n",
       "    16  2.1771955  \n",
       "1 0 1  0.25798237  "
      ]
     },
     "execution_count": 12,
     "metadata": {},
     "output_type": "execute_result"
    }
   ],
   "source": [
    "anom.head()"
   ]
  },
  {
   "cell_type": "markdown",
   "metadata": {},
   "source": [
    "---\n",
    "### Phasing the Anomalous Difference Map\n",
    "\n",
    "Below, we will compute the necessary phase shifts to go from the phases of a $2 F_o - F_c$ map to the phases associated with the anomalous difference structure factors. Although this model was refined to this data in PHENIX, the phases from any isomorphous structure could have been used to obtain a reasonable map. "
   ]
  },
  {
   "cell_type": "code",
   "execution_count": 13,
   "metadata": {},
   "outputs": [],
   "source": [
    "ref = rs.read_mtz(\"data/HEWL_refined.mtz\")"
   ]
  },
  {
   "cell_type": "code",
   "execution_count": 14,
   "metadata": {},
   "outputs": [],
   "source": [
    "# Find common HKL indices\n",
    "hkls = anom.index.intersection(ref.index).sort_values()\n",
    "anom = anom.loc[hkls]"
   ]
  },
  {
   "cell_type": "markdown",
   "metadata": {},
   "source": [
    "As mentioned in [Background](4_anomalousmap.ipynb#Background), we can compute the anomalous phases as follows:\n",
    "\n",
    "\\begin{equation*}\n",
    "\\phi_A = \\phi_c - \\alpha\n",
    "\\end{equation*}\n",
    "\n",
    "where $\\alpha$ is 90˚ when $\\Delta_{\\mathrm{ano}}$ is negative and 270˚ when it is positive."
   ]
  },
  {
   "cell_type": "code",
   "execution_count": 15,
   "metadata": {},
   "outputs": [],
   "source": [
    "alpha = 90 + 180*(anom[\"FW-F(+)\"] >= anom[\"FW-F(-)\"])\n",
    "anom[\"PHANOM\"] = ref.loc[hkls, \"PH2FOFCWT\"] + alpha\n",
    "anom[\"PHANOM\"] = rs.utils.canonicalize_phases(anom[\"PHANOM\"].astype(\"Phase\"))"
   ]
  },
  {
   "cell_type": "markdown",
   "metadata": {},
   "source": [
    "### Viewing the Map  \n",
    "\n",
    "Since we have structure factor amplitudes, `anom[\"ANOM\"]`, and phases, `anom[\"PHANOM\"]`, for the anomalous structure factors, we can now view the anomalous difference map. This can be done by writing out an MTZ file, and loading it into COOT, PyMOL, or any other molecular graphics package. "
   ]
  },
  {
   "cell_type": "code",
   "execution_count": 16,
   "metadata": {},
   "outputs": [
    {
     "data": {
      "text/plain": [
       "FW-F(+)       FriedelSFAmplitude\n",
       "FW-SIGF(+)       StddevFriedelSF\n",
       "N(+)                      MTZInt\n",
       "FW-F(-)       FriedelSFAmplitude\n",
       "FW-SIGF(-)       StddevFriedelSF\n",
       "N(-)                      MTZInt\n",
       "ANOM                 SFAmplitude\n",
       "SigANOM                   Stddev\n",
       "PHANOM                     Phase\n",
       "dtype: object"
      ]
     },
     "execution_count": 16,
     "metadata": {},
     "output_type": "execute_result"
    }
   ],
   "source": [
    "anom.dtypes"
   ]
  },
  {
   "cell_type": "code",
   "execution_count": 17,
   "metadata": {},
   "outputs": [],
   "source": [
    "anom.write_mtz(\"data/anomdiff.mtz\")"
   ]
  },
  {
   "cell_type": "markdown",
   "metadata": {},
   "source": [
    "Looking at the anomalous difference map on the refined structure, we can see positive difference density on all of the sulfurs in HEWL (shown below in purple):"
   ]
  },
  {
   "cell_type": "code",
   "execution_count": 18,
   "metadata": {
    "scrolled": false
   },
   "outputs": [
    {
     "data": {
      "text/html": [
       "<center>\n",
       "    <iframe src=\"https://hekstra-lab.github.io/reciprocalspaceship/data/anomdiff/anomdiff.html#zoom=25\", width=600, height=600></iframe>\n",
       "    <br>Anomalous difference map from HEWL crystal overlayed with refined model (PDB: 7L84). Map is contoured at +5&sigma;.\n",
       "</center>\n"
      ],
      "text/plain": [
       "<IPython.core.display.HTML object>"
      ]
     },
     "metadata": {},
     "output_type": "display_data"
    }
   ],
   "source": [
    "%%html\n",
    "<center>\n",
    "    <iframe src=\"https://hekstra-lab.github.io/reciprocalspaceship/data/anomdiff/anomdiff.html#zoom=25\", width=600, height=600></iframe>\n",
    "    <br>Anomalous difference map from HEWL crystal overlayed with refined model (PDB: 7L84). Map is contoured at +5&sigma;.\n",
    "</center>"
   ]
  }
 ],
 "metadata": {
  "kernelspec": {
   "display_name": "Python 3",
   "language": "python",
   "name": "python3"
  },
  "language_info": {
   "codemirror_mode": {
    "name": "ipython",
    "version": 3
   },
   "file_extension": ".py",
   "mimetype": "text/x-python",
   "name": "python",
   "nbconvert_exporter": "python",
   "pygments_lexer": "ipython3",
   "version": "3.8.5"
  }
 },
 "nbformat": 4,
 "nbformat_minor": 2
}
