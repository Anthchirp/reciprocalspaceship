{
 "cells": [
  {
   "cell_type": "markdown",
   "metadata": {},
   "source": [
    "# HEWL S-SAD Merging Statistics\n",
    "\n",
    "Merging statistics are a useful means to assess data quality in crystallography. However, each statistic has inherent shortcomings. For example, R-merge will appear inflated if the multiplicity is high, and the Pearson correlation coefficients used for $CC_{1/2}$ are very sensitive to outliers. \n",
    "\n",
    "Most scaling and merging programs output multiple merging statistics to get around these shortcomings. However, one can imagine that it could also be useful to customize certain parameters, such as how many resolution bins are used. Or, perhaps a better statistic will be developed that is worth implementing. \n",
    "\n",
    "In this notebook, ``reciprocalspaceship`` is used to compute half dataset correlation coefficients ($CC_{1/2}$ and $CC_{anom}$) for a dataset collected from a tetragonal hen egg-white lysozyme (HEWL) crystal at 6550 eV. \n",
    "These data are unmerged, but were scaled in AIMLESS. \n",
    "They contain sufficient sulfur anomalous signal to determine a solution by the SAD method. \n",
    "This illustrates the use of ``rs`` to create a custom analysis, and could be useful as a template for other exploratory crystallographic data analyses. \n",
    "As an example, we will compare half dataset correlations computed using both Pearson and Spearman correlation coefficients."
   ]
  },
  {
   "cell_type": "code",
   "execution_count": 1,
   "metadata": {},
   "outputs": [],
   "source": [
    "%matplotlib inline\n",
    "import matplotlib.pyplot as plt\n",
    "import numpy as np\n",
    "from scipy import stats\n"
   ]
  },
  {
   "cell_type": "code",
   "execution_count": 2,
   "metadata": {},
   "outputs": [],
   "source": [
    "import reciprocalspaceship as rs"
   ]
  },
  {
   "cell_type": "code",
   "execution_count": 3,
   "metadata": {},
   "outputs": [
    {
     "name": "stdout",
     "output_type": "stream",
     "text": [
      "0.8.9\n"
     ]
    }
   ],
   "source": [
    "print(rs.__version__)"
   ]
  },
  {
   "cell_type": "markdown",
   "metadata": {},
   "source": [
    "---\n",
    "### Load scaled, unmerged data"
   ]
  },
  {
   "cell_type": "code",
   "execution_count": 4,
   "metadata": {},
   "outputs": [],
   "source": [
    "hewl = rs.read_mtz(\"data/HEWL_unmerged.mtz\")"
   ]
  },
  {
   "cell_type": "code",
   "execution_count": 5,
   "metadata": {},
   "outputs": [
    {
     "data": {
      "text/html": [
       "<div>\n",
       "<style scoped>\n",
       "    .dataframe tbody tr th:only-of-type {\n",
       "        vertical-align: middle;\n",
       "    }\n",
       "\n",
       "    .dataframe tbody tr th {\n",
       "        vertical-align: top;\n",
       "    }\n",
       "\n",
       "    .dataframe thead th {\n",
       "        text-align: right;\n",
       "    }\n",
       "</style>\n",
       "<table border=\"1\" class=\"dataframe\">\n",
       "  <thead>\n",
       "    <tr style=\"text-align: right;\">\n",
       "      <th></th>\n",
       "      <th></th>\n",
       "      <th></th>\n",
       "      <th>BATCH</th>\n",
       "      <th>I</th>\n",
       "      <th>SIGI</th>\n",
       "      <th>PARTIAL</th>\n",
       "    </tr>\n",
       "    <tr>\n",
       "      <th>H</th>\n",
       "      <th>K</th>\n",
       "      <th>L</th>\n",
       "      <th></th>\n",
       "      <th></th>\n",
       "      <th></th>\n",
       "      <th></th>\n",
       "    </tr>\n",
       "  </thead>\n",
       "  <tbody>\n",
       "    <tr>\n",
       "      <th rowspan=\"5\" valign=\"top\">0</th>\n",
       "      <th rowspan=\"5\" valign=\"top\">0</th>\n",
       "      <th>1</th>\n",
       "      <td>145</td>\n",
       "      <td>1.8575767</td>\n",
       "      <td>0.22305174</td>\n",
       "      <td>False</td>\n",
       "    </tr>\n",
       "    <tr>\n",
       "      <th>1</th>\n",
       "      <td>865</td>\n",
       "      <td>2.2683158</td>\n",
       "      <td>0.17914094</td>\n",
       "      <td>False</td>\n",
       "    </tr>\n",
       "    <tr>\n",
       "      <th>1</th>\n",
       "      <td>1231</td>\n",
       "      <td>1.4042842</td>\n",
       "      <td>0.22381113</td>\n",
       "      <td>False</td>\n",
       "    </tr>\n",
       "    <tr>\n",
       "      <th>1</th>\n",
       "      <td>2145</td>\n",
       "      <td>1.6752408</td>\n",
       "      <td>0.20016733</td>\n",
       "      <td>False</td>\n",
       "    </tr>\n",
       "    <tr>\n",
       "      <th>1</th>\n",
       "      <td>3231</td>\n",
       "      <td>1.2280092</td>\n",
       "      <td>0.21494065</td>\n",
       "      <td>False</td>\n",
       "    </tr>\n",
       "  </tbody>\n",
       "</table>\n",
       "</div>"
      ],
      "text/plain": [
       "       BATCH         I       SIGI  PARTIAL\n",
       "H K L                                     \n",
       "0 0 1    145 1.8575767 0.22305174    False\n",
       "    1    865 2.2683158 0.17914094    False\n",
       "    1   1231 1.4042842 0.22381113    False\n",
       "    1   2145 1.6752408 0.20016733    False\n",
       "    1   3231 1.2280092 0.21494065    False"
      ]
     },
     "execution_count": 5,
     "metadata": {},
     "output_type": "execute_result"
    }
   ],
   "source": [
    "hewl.head()"
   ]
  },
  {
   "cell_type": "code",
   "execution_count": 6,
   "metadata": {},
   "outputs": [
    {
     "name": "stdout",
     "output_type": "stream",
     "text": [
      "Number of observed reflections: 822299\n"
     ]
    }
   ],
   "source": [
    "print(f\"Number of observed reflections: {len(hewl)}\")"
   ]
  },
  {
   "cell_type": "markdown",
   "metadata": {},
   "source": [
    "---\n",
    "### Helper functions for merging  \n",
    "\n",
    "Since the input data are unmerged, we will implement the inverse-variance weighting scheme used by AIMLESS to merge the observations. \n",
    "The weighted average is a better estimator of the true mean than the raw average. \n",
    "\n",
    "The merged intensity for each reflection, $I_h$, can be determined from the observed intensities, $I_{h,i}$, and error estimates, $\\sigma_{h,i}$, as follows:\n",
    "\n",
    "\\begin{equation}\n",
    "I_h = \\frac{\\sum_{i}w_{h,i} I_{h,i}}{\\sum_{i} w_{h,i}}\n",
    "\\end{equation}\n",
    "\n",
    "where the weight for each observation, $w_{h,i}$ is given by:\n",
    "\n",
    "\\begin{equation}\n",
    "w_{h,i} = \\frac{1}{(\\sigma_{h,i})^2}\n",
    "\\end{equation}\n",
    "\n",
    "We will randomly split the observations into half-datasets by image number, and we will calculate:  \n",
    " - **IMEAN** : the averge intensity of both Friedel mates, $I_h$ and $I_{-h}$  \n",
    " - **I(+)** : the average intensity of $I_h$  \n",
    " - **I(-)** : the average intensity of $I_{-h}$  \n",
    "\n",
    "for each unique Friedel pair in each half-dataset. \n",
    "We will compare these values across half-datasets in order to compute correlation coefficients by resolution bin, and we will resample the half-datasets multiple times in order to get a sense of the distribution of the correlation coefficients within each resolution bin."
   ]
  },
  {
   "cell_type": "code",
   "execution_count": 7,
   "metadata": {},
   "outputs": [],
   "source": [
    "def sample_halfdatasets(data):\n",
    "    \"\"\"Randomly split DataSet into two equal halves by BATCH\"\"\"\n",
    "    batch = data.BATCH.unique().to_numpy(dtype=int)\n",
    "    np.random.shuffle(batch)\n",
    "    halfbatch1, halfbatch2 = np.array_split(batch, 2)\n",
    "    half1 = data.loc[data.BATCH.isin(halfbatch1)]\n",
    "    half2 = data.loc[data.BATCH.isin(halfbatch2)]\n",
    "    return half1, half2\n",
    "\n",
    "def merge(halfdataset):\n",
    "    \"\"\"Merge half-dataset to get IMEAN, I(+), and I(-)\"\"\"\n",
    "    temp = halfdataset.copy()\n",
    "    temp[\"invvar\"] = temp.SIGI**-2\n",
    "    temp[\"weighted\"] = temp.I * temp.invvar\n",
    "    tempresult = temp.groupby([\"H\", \"K\", \"L\", \"Friedel(+)\"]).agg({'weighted':'sum', 'invvar':'sum'})\n",
    "    tempresult[\"I\"] = tempresult.weighted/tempresult.invvar\n",
    "    tempresult = tempresult.unstack()\n",
    "    result = rs.DataSet({\n",
    "        \"IMEAN\": (tempresult[\"weighted\"].sum(axis=1)/tempresult[\"invvar\"].sum(axis=1)).astype(\"J\"),\n",
    "        \"I(+)\": tempresult[\"I\", True],\n",
    "        \"I(-)\": tempresult[\"I\", False]\n",
    "    })\n",
    "    return result.dropna().__finalize__(halfdataset)"
   ]
  },
  {
   "cell_type": "markdown",
   "metadata": {},
   "source": [
    "Finally, here are the functions necessary to merge all of the observed reflections in the dataset:"
   ]
  },
  {
   "cell_type": "code",
   "execution_count": 8,
   "metadata": {},
   "outputs": [],
   "source": [
    "def classify_friedel_pairs(data):\n",
    "    \"\"\"Classify whether observed reflections are Friedel(+) or Friedel(-)\"\"\"\n",
    "    data.hkl_to_asu(inplace=True)\n",
    "    data[\"Friedel(+)\"] = rs.DataSeries(data[\"M/ISYM\"]%2 == 1, dtype=bool)\n",
    "    return data\n",
    "\n",
    "def merge_dataset(mtz, nsamples):\n",
    "    \"\"\"\n",
    "    Merge DataSet using inverse-variance weighting scheme. This represents the \n",
    "    maximum-likelihood estimatortor of the mean of the observed intensities assuming \n",
    "    they are independent and normally distributed with the same mean. \n",
    "    \n",
    "    Sample means across half-datasets can be used to compute the merging statistics CC1/2 and CCanom.\n",
    "    \"\"\"\n",
    "    mtz = mtz.copy()\n",
    "    unmerged = classify_friedel_pairs(mtz)\n",
    "    samples = []\n",
    "    for n in range(nsamples):\n",
    "        half1, half2 = sample_halfdatasets(unmerged)\n",
    "        mergedhalf1 = merge(half1)\n",
    "        mergedhalf2 = merge(half2)\n",
    "        result = mergedhalf1.merge(mergedhalf2, left_index=True, right_index=True, suffixes=(1, 2))\n",
    "        result[\"sample\"] = n\n",
    "        samples.append(result)\n",
    "    return rs.concat(samples).sort_index()"
   ]
  },
  {
   "cell_type": "markdown",
   "metadata": {},
   "source": [
    "---\n",
    "### Merge HEWL data\n",
    "\n",
    "We will now merge the HEWL data, repeatedly sampling across half-datasets in order to assess the distribution of correlation coefficients."
   ]
  },
  {
   "cell_type": "code",
   "execution_count": 9,
   "metadata": {},
   "outputs": [],
   "source": [
    "merged = merge_dataset(hewl, 15)"
   ]
  },
  {
   "cell_type": "code",
   "execution_count": 10,
   "metadata": {},
   "outputs": [
    {
     "data": {
      "text/html": [
       "<div>\n",
       "<style scoped>\n",
       "    .dataframe tbody tr th:only-of-type {\n",
       "        vertical-align: middle;\n",
       "    }\n",
       "\n",
       "    .dataframe tbody tr th {\n",
       "        vertical-align: top;\n",
       "    }\n",
       "\n",
       "    .dataframe thead th {\n",
       "        text-align: right;\n",
       "    }\n",
       "</style>\n",
       "<table border=\"1\" class=\"dataframe\">\n",
       "  <thead>\n",
       "    <tr style=\"text-align: right;\">\n",
       "      <th></th>\n",
       "      <th></th>\n",
       "      <th></th>\n",
       "      <th>IMEAN1</th>\n",
       "      <th>I(+)1</th>\n",
       "      <th>I(-)1</th>\n",
       "      <th>IMEAN2</th>\n",
       "      <th>I(+)2</th>\n",
       "      <th>I(-)2</th>\n",
       "      <th>sample</th>\n",
       "    </tr>\n",
       "    <tr>\n",
       "      <th>H</th>\n",
       "      <th>K</th>\n",
       "      <th>L</th>\n",
       "      <th></th>\n",
       "      <th></th>\n",
       "      <th></th>\n",
       "      <th></th>\n",
       "      <th></th>\n",
       "      <th></th>\n",
       "      <th></th>\n",
       "    </tr>\n",
       "  </thead>\n",
       "  <tbody>\n",
       "    <tr>\n",
       "      <th rowspan=\"5\" valign=\"top\">0</th>\n",
       "      <th rowspan=\"5\" valign=\"top\">0</th>\n",
       "      <th>1</th>\n",
       "      <td>1.471577</td>\n",
       "      <td>1.7099401</td>\n",
       "      <td>1.3278339</td>\n",
       "      <td>1.6083632</td>\n",
       "      <td>1.8575767</td>\n",
       "      <td>1.5566863</td>\n",
       "      <td>0</td>\n",
       "    </tr>\n",
       "    <tr>\n",
       "      <th>1</th>\n",
       "      <td>1.5389882</td>\n",
       "      <td>1.8470476</td>\n",
       "      <td>1.4167432</td>\n",
       "      <td>1.4528136</td>\n",
       "      <td>1.5311382</td>\n",
       "      <td>1.4042016</td>\n",
       "      <td>1</td>\n",
       "    </tr>\n",
       "    <tr>\n",
       "      <th>1</th>\n",
       "      <td>1.5583609</td>\n",
       "      <td>1.5850568</td>\n",
       "      <td>1.53037</td>\n",
       "      <td>1.4906383</td>\n",
       "      <td>1.9309214</td>\n",
       "      <td>1.3754267</td>\n",
       "      <td>2</td>\n",
       "    </tr>\n",
       "    <tr>\n",
       "      <th>1</th>\n",
       "      <td>1.4440039</td>\n",
       "      <td>1.6484134</td>\n",
       "      <td>1.3593869</td>\n",
       "      <td>1.6146193</td>\n",
       "      <td>1.841894</td>\n",
       "      <td>1.4968622</td>\n",
       "      <td>3</td>\n",
       "    </tr>\n",
       "    <tr>\n",
       "      <th>1</th>\n",
       "      <td>1.3491715</td>\n",
       "      <td>1.4042842</td>\n",
       "      <td>1.3407339</td>\n",
       "      <td>1.6235417</td>\n",
       "      <td>1.8026135</td>\n",
       "      <td>1.48726</td>\n",
       "      <td>4</td>\n",
       "    </tr>\n",
       "    <tr>\n",
       "      <th>...</th>\n",
       "      <th>...</th>\n",
       "      <th>...</th>\n",
       "      <td>...</td>\n",
       "      <td>...</td>\n",
       "      <td>...</td>\n",
       "      <td>...</td>\n",
       "      <td>...</td>\n",
       "      <td>...</td>\n",
       "      <td>...</td>\n",
       "    </tr>\n",
       "    <tr>\n",
       "      <th rowspan=\"5\" valign=\"top\">45</th>\n",
       "      <th rowspan=\"5\" valign=\"top\">10</th>\n",
       "      <th>1</th>\n",
       "      <td>5.9161806</td>\n",
       "      <td>7.6295433</td>\n",
       "      <td>4.728407</td>\n",
       "      <td>6.6214385</td>\n",
       "      <td>6.951154</td>\n",
       "      <td>6.088281</td>\n",
       "      <td>9</td>\n",
       "    </tr>\n",
       "    <tr>\n",
       "      <th>1</th>\n",
       "      <td>5.606877</td>\n",
       "      <td>5.717536</td>\n",
       "      <td>5.4856105</td>\n",
       "      <td>9.365798</td>\n",
       "      <td>11.071259</td>\n",
       "      <td>5.853459</td>\n",
       "      <td>10</td>\n",
       "    </tr>\n",
       "    <tr>\n",
       "      <th>1</th>\n",
       "      <td>5.9571977</td>\n",
       "      <td>5.6664567</td>\n",
       "      <td>6.2042103</td>\n",
       "      <td>7.0509</td>\n",
       "      <td>8.461554</td>\n",
       "      <td>3.8962657</td>\n",
       "      <td>11</td>\n",
       "    </tr>\n",
       "    <tr>\n",
       "      <th>1</th>\n",
       "      <td>4.340049</td>\n",
       "      <td>4.005453</td>\n",
       "      <td>4.5880957</td>\n",
       "      <td>7.4898357</td>\n",
       "      <td>8.209808</td>\n",
       "      <td>6.3028135</td>\n",
       "      <td>12</td>\n",
       "    </tr>\n",
       "    <tr>\n",
       "      <th>1</th>\n",
       "      <td>6.758027</td>\n",
       "      <td>9.478301</td>\n",
       "      <td>4.3816113</td>\n",
       "      <td>5.9390526</td>\n",
       "      <td>4.895612</td>\n",
       "      <td>8.095466</td>\n",
       "      <td>13</td>\n",
       "    </tr>\n",
       "  </tbody>\n",
       "</table>\n",
       "<p>183109 rows × 7 columns</p>\n",
       "</div>"
      ],
      "text/plain": [
       "           IMEAN1     I(+)1     I(-)1    IMEAN2     I(+)2     I(-)2  sample\n",
       "H  K  L                                                                    \n",
       "0  0  1  1.471577 1.7099401 1.3278339 1.6083632 1.8575767 1.5566863       0\n",
       "      1 1.5389882 1.8470476 1.4167432 1.4528136 1.5311382 1.4042016       1\n",
       "      1 1.5583609 1.5850568   1.53037 1.4906383 1.9309214 1.3754267       2\n",
       "      1 1.4440039 1.6484134 1.3593869 1.6146193  1.841894 1.4968622       3\n",
       "      1 1.3491715 1.4042842 1.3407339 1.6235417 1.8026135   1.48726       4\n",
       "...           ...       ...       ...       ...       ...       ...     ...\n",
       "45 10 1 5.9161806 7.6295433  4.728407 6.6214385  6.951154  6.088281       9\n",
       "      1  5.606877  5.717536 5.4856105  9.365798 11.071259  5.853459      10\n",
       "      1 5.9571977 5.6664567 6.2042103    7.0509  8.461554 3.8962657      11\n",
       "      1  4.340049  4.005453 4.5880957 7.4898357  8.209808 6.3028135      12\n",
       "      1  6.758027  9.478301 4.3816113 5.9390526  4.895612  8.095466      13\n",
       "\n",
       "[183109 rows x 7 columns]"
      ]
     },
     "execution_count": 10,
     "metadata": {},
     "output_type": "execute_result"
    }
   ],
   "source": [
    "merged"
   ]
  },
  {
   "cell_type": "markdown",
   "metadata": {},
   "source": [
    "---\n",
    "### Compute $CC_{1/2}$ and $CC_{anom}$  \n",
    "\n",
    "We will first assign each reflection to a resolution bin, and then we will compute the correlation coefficients"
   ]
  },
  {
   "cell_type": "code",
   "execution_count": 11,
   "metadata": {},
   "outputs": [],
   "source": [
    "merged, labels = merged.assign_resolution_bins()"
   ]
  },
  {
   "cell_type": "code",
   "execution_count": 12,
   "metadata": {},
   "outputs": [],
   "source": [
    "def cc(dataset, col1, col2, method=\"pearson\",):\n",
    "    if method == \"pearson\":\n",
    "        cc = np.corrcoef(dataset[col1], dataset[col2])\n",
    "        return cc[0, 1]\n",
    "    elif method == \"spearman\":\n",
    "        cc = stats.spearmanr(dataset[col1], dataset[col2])\n",
    "        return cc.correlation"
   ]
  },
  {
   "cell_type": "code",
   "execution_count": 13,
   "metadata": {},
   "outputs": [],
   "source": [
    "results_p = merged.groupby([\"sample\", \"bin\"]).apply(cc, \"IMEAN1\", \"IMEAN2\", \"pearson\")\n",
    "results_p.name = \"CC1/2\"\n",
    "finalp = results_p.groupby(\"bin\").agg([\"mean\", \"std\"])\n",
    "\n",
    "results_s = merged.groupby([\"sample\", \"bin\"]).apply(cc, \"IMEAN1\", \"IMEAN2\", \"spearman\")\n",
    "results_s.name = \"CC1/2\"\n",
    "finals = results_s.groupby(\"bin\").agg([\"mean\", \"std\"])"
   ]
  },
  {
   "cell_type": "code",
   "execution_count": 14,
   "metadata": {},
   "outputs": [
    {
     "data": {
      "image/png": "[encoded data removed]",
      "text/plain": [
       "<Figure size 576x432 with 1 Axes>"
      ]
     },
     "metadata": {
      "needs_background": "light"
     },
     "output_type": "display_data"
    }
   ],
   "source": [
    "plt.figure(figsize=(8, 6))\n",
    "plt.errorbar(finalp.index, finalp[\"mean\"], yerr=finalp[\"std\"], label=r\"$CC_{1/2}$ (Pearson)\")\n",
    "plt.errorbar(finals.index, finals[\"mean\"], yerr=finals[\"std\"], label=r\"$CC_{1/2}$ (Spearman)\")\n",
    "\n",
    "plt.xticks(finalp.index, labels, rotation=45)\n",
    "plt.ylabel(r\"Correlation Coefficient\")\n",
    "plt.xlabel(\"Resolution Bin\")\n",
    "plt.legend(loc='center left', bbox_to_anchor=(1, 0.5))\n",
    "plt.show()"
   ]
  },
  {
   "cell_type": "markdown",
   "metadata": {},
   "source": [
    "It is important to note the scale on the y-axis -- this dataset is edge-limited, and as such the $CC_{1/2}$ is very high across all resolution bins. The Spearman CC appears higher across all resolution bins except at high resolution, and overall has a lower standard deviation among samples.\n",
    "This is consistent with our expectation that Spearman CCs are a more robust estimator of correlation than Pearson CCs.\n",
    "\n",
    "The following cell repeats this procedure for the anomalous correlations. "
   ]
  },
  {
   "cell_type": "code",
   "execution_count": 15,
   "metadata": {},
   "outputs": [
    {
     "data": {
      "image/png": "[encoded data removed]",
      "text/plain": [
       "<Figure size 576x432 with 1 Axes>"
      ]
     },
     "metadata": {
      "needs_background": "light"
     },
     "output_type": "display_data"
    }
   ],
   "source": [
    "merged[\"ANOM1\"] = merged[\"I(+)1\"] - merged[\"I(-)1\"]\n",
    "merged[\"ANOM2\"] = merged[\"I(+)2\"] - merged[\"I(-)2\"]\n",
    "\n",
    "results_pa = merged.groupby([\"sample\", \"bin\"]).apply(cc, \"ANOM1\", \"ANOM2\", \"pearson\")\n",
    "results_pa.name = \"CC1/2\"\n",
    "finalpa = results_pa.groupby(\"bin\").agg([\"mean\", \"std\"])\n",
    "\n",
    "results_sa = merged.groupby([\"sample\", \"bin\"]).apply(cc, \"ANOM1\", \"ANOM2\", \"spearman\")\n",
    "results_sa.name = \"CC1/2\"\n",
    "finalsa = results_sa.groupby(\"bin\").agg([\"mean\", \"std\"])\n",
    "\n",
    "\n",
    "plt.figure(figsize=(8, 6))\n",
    "plt.errorbar(finalpa.index, finalpa[\"mean\"], yerr=finalpa[\"std\"], label=r\"$CC_{anom}$ (Pearson)\")\n",
    "plt.errorbar(finalsa.index, finalsa[\"mean\"], yerr=finalsa[\"std\"], label=r\"$CC_{anom}$ (Spearman)\")\n",
    "\n",
    "plt.xticks(finalpa.index, labels, rotation=45)\n",
    "plt.ylabel(r\"Correlation Coefficient\")\n",
    "plt.xlabel(\"Resolution Bin\")\n",
    "plt.legend(loc='center left', bbox_to_anchor=(1, 0.5))\n",
    "plt.show()"
   ]
  },
  {
   "cell_type": "markdown",
   "metadata": {},
   "source": [
    "There is significant anomalous signal across all but the highest resolution bin. The comparison between Pearson and Spearman correlation coefficients shows that the Pearson CC is greatly influenced by outliers in the $2.25Å-2.18Å$ and $2.00Å-1.96Å$ resolution bins."
   ]
  }
 ],
 "metadata": {
  "kernelspec": {
   "display_name": "Python 3",
   "language": "python",
   "name": "python3"
  },
  "language_info": {
   "codemirror_mode": {
    "name": "ipython",
    "version": 3
   },
   "file_extension": ".py",
   "mimetype": "text/x-python",
   "name": "python",
   "nbconvert_exporter": "python",
   "pygments_lexer": "ipython3",
   "version": "3.8.5"
  }
 },
 "nbformat": 4,
 "nbformat_minor": 4
}
