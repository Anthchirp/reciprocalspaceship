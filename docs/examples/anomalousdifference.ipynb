{
 "cells": [
  {
   "cell_type": "markdown",
   "metadata": {},
   "source": [
    "# Making an Anomalous Difference Map\n",
    "\n",
    "In [Getting Started](gettingstarted.ipynb) we loaded a room-temperature dataset that was collected at ~6550 eV of tetragonal HEWL. Let's now use that data to generate an anomalous difference map based on the native anomalous signal from sulfur atoms. "
   ]
  },
  {
   "cell_type": "code",
   "execution_count": 1,
   "metadata": {},
   "outputs": [],
   "source": [
    "import reciprocalspaceship as rs\n",
    "import numpy as np"
   ]
  },
  {
   "cell_type": "code",
   "execution_count": 2,
   "metadata": {},
   "outputs": [
    {
     "data": {
      "text/html": [
       "<div>\n",
       "<style scoped>\n",
       "    .dataframe tbody tr th:only-of-type {\n",
       "        vertical-align: middle;\n",
       "    }\n",
       "\n",
       "    .dataframe tbody tr th {\n",
       "        vertical-align: top;\n",
       "    }\n",
       "\n",
       "    .dataframe thead th {\n",
       "        text-align: right;\n",
       "    }\n",
       "</style>\n",
       "<table border=\"1\" class=\"dataframe\">\n",
       "  <thead>\n",
       "    <tr style=\"text-align: right;\">\n",
       "      <th></th>\n",
       "      <th></th>\n",
       "      <th></th>\n",
       "      <th>FreeR_flag</th>\n",
       "      <th>IMEAN</th>\n",
       "      <th>SIGIMEAN</th>\n",
       "      <th>I(+)</th>\n",
       "      <th>SIGI(+)</th>\n",
       "      <th>I(-)</th>\n",
       "      <th>SIGI(-)</th>\n",
       "      <th>N(+)</th>\n",
       "      <th>N(-)</th>\n",
       "    </tr>\n",
       "    <tr>\n",
       "      <th>H</th>\n",
       "      <th>K</th>\n",
       "      <th>L</th>\n",
       "      <th></th>\n",
       "      <th></th>\n",
       "      <th></th>\n",
       "      <th></th>\n",
       "      <th></th>\n",
       "      <th></th>\n",
       "      <th></th>\n",
       "      <th></th>\n",
       "      <th></th>\n",
       "    </tr>\n",
       "  </thead>\n",
       "  <tbody>\n",
       "    <tr>\n",
       "      <th rowspan=\"5\" valign=\"top\">0</th>\n",
       "      <th rowspan=\"5\" valign=\"top\">0</th>\n",
       "      <th>4</th>\n",
       "      <td>14</td>\n",
       "      <td>671.0396</td>\n",
       "      <td>22.205784</td>\n",
       "      <td>671.0396</td>\n",
       "      <td>22.205784</td>\n",
       "      <td>671.0396</td>\n",
       "      <td>22.205784</td>\n",
       "      <td>16</td>\n",
       "      <td>16</td>\n",
       "    </tr>\n",
       "    <tr>\n",
       "      <th>8</th>\n",
       "      <td>4</td>\n",
       "      <td>3273.7385</td>\n",
       "      <td>107.59589</td>\n",
       "      <td>3273.7385</td>\n",
       "      <td>107.59589</td>\n",
       "      <td>3273.7385</td>\n",
       "      <td>107.59589</td>\n",
       "      <td>16</td>\n",
       "      <td>16</td>\n",
       "    </tr>\n",
       "    <tr>\n",
       "      <th>12</th>\n",
       "      <td>6</td>\n",
       "      <td>1367.5679</td>\n",
       "      <td>43.352566</td>\n",
       "      <td>1367.5679</td>\n",
       "      <td>43.352566</td>\n",
       "      <td>1367.5679</td>\n",
       "      <td>43.352566</td>\n",
       "      <td>16</td>\n",
       "      <td>16</td>\n",
       "    </tr>\n",
       "    <tr>\n",
       "      <th>16</th>\n",
       "      <td>19</td>\n",
       "      <td>4158.55</td>\n",
       "      <td>198.88382</td>\n",
       "      <td>4158.55</td>\n",
       "      <td>198.88382</td>\n",
       "      <td>4158.55</td>\n",
       "      <td>198.88382</td>\n",
       "      <td>8</td>\n",
       "      <td>8</td>\n",
       "    </tr>\n",
       "    <tr>\n",
       "      <th>20</th>\n",
       "      <td>8</td>\n",
       "      <td>2.4992087</td>\n",
       "      <td>5.7103205</td>\n",
       "      <td>2.4992087</td>\n",
       "      <td>5.7103205</td>\n",
       "      <td>2.4992087</td>\n",
       "      <td>5.7103205</td>\n",
       "      <td>1</td>\n",
       "      <td>1</td>\n",
       "    </tr>\n",
       "  </tbody>\n",
       "</table>\n",
       "</div>"
      ],
      "text/plain": [
       "        FreeR_flag     IMEAN  SIGIMEAN      I(+)   SIGI(+)      I(-)  \\\n",
       "H K L                                                                  \n",
       "0 0 4           14  671.0396 22.205784  671.0396 22.205784  671.0396   \n",
       "    8            4 3273.7385 107.59589 3273.7385 107.59589 3273.7385   \n",
       "    12           6 1367.5679 43.352566 1367.5679 43.352566 1367.5679   \n",
       "    16          19   4158.55 198.88382   4158.55 198.88382   4158.55   \n",
       "    20           8 2.4992087 5.7103205 2.4992087 5.7103205 2.4992087   \n",
       "\n",
       "         SIGI(-)  N(+)  N(-)  \n",
       "H K L                         \n",
       "0 0 4  22.205784    16    16  \n",
       "    8  107.59589    16    16  \n",
       "    12 43.352566    16    16  \n",
       "    16 198.88382     8     8  \n",
       "    20 5.7103205     1     1  "
      ]
     },
     "execution_count": 2,
     "metadata": {},
     "output_type": "execute_result"
    }
   ],
   "source": [
    "refltable = rs.read_mtz(\"data/HEWL_SSAD_24IDC.mtz\")\n",
    "refltable.head()"
   ]
  },
  {
   "cell_type": "code",
   "execution_count": 3,
   "metadata": {},
   "outputs": [
    {
     "name": "stdout",
     "output_type": "stream",
     "text": [
      "Number of reflections: 12563\n"
     ]
    }
   ],
   "source": [
    "print(f\"Number of reflections: {len(refltable)}\")"
   ]
  },
  {
   "cell_type": "markdown",
   "metadata": {},
   "source": [
    "---\n",
    "### Computing differences\n",
    "\n",
    "In order to compute a difference map, let's first compute the differences in structure factor amplitude between Friedel pairs. We will do this in the following steps:\n",
    "\n",
    "1. Filter out any reflections without observation of both Friedel pairs, or negative intensities\n",
    "2. Filter out any centric reflections (Unnecessary)\n",
    "3. Convert the observed intensities into structure factor amplitudes\n",
    "4. Compute difference in magnitude between Friedel pairs ($F_{HKL}^+ - F_{HKL}^-$)"
   ]
  },
  {
   "cell_type": "code",
   "execution_count": 4,
   "metadata": {},
   "outputs": [],
   "source": [
    "# 1. Filter out reflections without both Friedel pairs\n",
    "refltable = refltable.loc[(refltable[\"N(+)\"] > 0) & \n",
    "                          (refltable[\"N(-)\"] > 0) &\n",
    "                          (refltable[\"I(+)\"] > 0) &\n",
    "                          (refltable[\"I(-)\"] > 0)]"
   ]
  },
  {
   "cell_type": "code",
   "execution_count": 5,
   "metadata": {},
   "outputs": [
    {
     "name": "stdout",
     "output_type": "stream",
     "text": [
      "Number of reflections: 12333\n"
     ]
    }
   ],
   "source": [
    "print(f\"Number of reflections: {len(refltable)}\")"
   ]
  },
  {
   "cell_type": "code",
   "execution_count": 6,
   "metadata": {},
   "outputs": [],
   "source": [
    "# 2. Filter out centric reflections (Unnecessary)\n",
    "refltable = refltable.loc[~refltable.label_centrics()[\"CENTRIC\"]]"
   ]
  },
  {
   "cell_type": "code",
   "execution_count": 7,
   "metadata": {},
   "outputs": [
    {
     "name": "stdout",
     "output_type": "stream",
     "text": [
      "Number of reflections: 10328\n"
     ]
    }
   ],
   "source": [
    "print(f\"Number of reflections: {len(refltable)}\")"
   ]
  },
  {
   "cell_type": "code",
   "execution_count": 8,
   "metadata": {},
   "outputs": [
    {
     "data": {
      "text/html": [
       "<div>\n",
       "<style scoped>\n",
       "    .dataframe tbody tr th:only-of-type {\n",
       "        vertical-align: middle;\n",
       "    }\n",
       "\n",
       "    .dataframe tbody tr th {\n",
       "        vertical-align: top;\n",
       "    }\n",
       "\n",
       "    .dataframe thead th {\n",
       "        text-align: right;\n",
       "    }\n",
       "</style>\n",
       "<table border=\"1\" class=\"dataframe\">\n",
       "  <thead>\n",
       "    <tr style=\"text-align: right;\">\n",
       "      <th></th>\n",
       "      <th></th>\n",
       "      <th></th>\n",
       "      <th>FreeR_flag</th>\n",
       "      <th>IMEAN</th>\n",
       "      <th>SIGIMEAN</th>\n",
       "      <th>I(+)</th>\n",
       "      <th>SIGI(+)</th>\n",
       "      <th>I(-)</th>\n",
       "      <th>SIGI(-)</th>\n",
       "      <th>N(+)</th>\n",
       "      <th>N(-)</th>\n",
       "    </tr>\n",
       "    <tr>\n",
       "      <th>H</th>\n",
       "      <th>K</th>\n",
       "      <th>L</th>\n",
       "      <th></th>\n",
       "      <th></th>\n",
       "      <th></th>\n",
       "      <th></th>\n",
       "      <th></th>\n",
       "      <th></th>\n",
       "      <th></th>\n",
       "      <th></th>\n",
       "      <th></th>\n",
       "    </tr>\n",
       "  </thead>\n",
       "  <tbody>\n",
       "    <tr>\n",
       "      <th rowspan=\"5\" valign=\"top\">2</th>\n",
       "      <th rowspan=\"5\" valign=\"top\">1</th>\n",
       "      <th>1</th>\n",
       "      <td>0</td>\n",
       "      <td>199.67992</td>\n",
       "      <td>2.1387444</td>\n",
       "      <td>208.31882</td>\n",
       "      <td>3.0264542</td>\n",
       "      <td>191.06168</td>\n",
       "      <td>3.0228317</td>\n",
       "      <td>64</td>\n",
       "      <td>64</td>\n",
       "    </tr>\n",
       "    <tr>\n",
       "      <th>2</th>\n",
       "      <td>13</td>\n",
       "      <td>881.6192</td>\n",
       "      <td>9.878236</td>\n",
       "      <td>845.6465</td>\n",
       "      <td>13.966452</td>\n",
       "      <td>917.6278</td>\n",
       "      <td>13.973421</td>\n",
       "      <td>64</td>\n",
       "      <td>64</td>\n",
       "    </tr>\n",
       "    <tr>\n",
       "      <th>3</th>\n",
       "      <td>4</td>\n",
       "      <td>423.35788</td>\n",
       "      <td>4.799563</td>\n",
       "      <td>419.0855</td>\n",
       "      <td>6.7865486</td>\n",
       "      <td>427.63293</td>\n",
       "      <td>6.7886667</td>\n",
       "      <td>64</td>\n",
       "      <td>64</td>\n",
       "    </tr>\n",
       "    <tr>\n",
       "      <th>4</th>\n",
       "      <td>15</td>\n",
       "      <td>722.5178</td>\n",
       "      <td>8.301497</td>\n",
       "      <td>685.8678</td>\n",
       "      <td>11.732637</td>\n",
       "      <td>759.2611</td>\n",
       "      <td>11.747558</td>\n",
       "      <td>64</td>\n",
       "      <td>64</td>\n",
       "    </tr>\n",
       "    <tr>\n",
       "      <th>5</th>\n",
       "      <td>15</td>\n",
       "      <td>1415.0105</td>\n",
       "      <td>20.677141</td>\n",
       "      <td>1405.6847</td>\n",
       "      <td>29.239077</td>\n",
       "      <td>1424.34</td>\n",
       "      <td>29.24471</td>\n",
       "      <td>40</td>\n",
       "      <td>40</td>\n",
       "    </tr>\n",
       "  </tbody>\n",
       "</table>\n",
       "</div>"
      ],
      "text/plain": [
       "       FreeR_flag     IMEAN  SIGIMEAN      I(+)   SIGI(+)      I(-)   SIGI(-)  \\\n",
       "H K L                                                                           \n",
       "2 1 1           0 199.67992 2.1387444 208.31882 3.0264542 191.06168 3.0228317   \n",
       "    2          13  881.6192  9.878236  845.6465 13.966452  917.6278 13.973421   \n",
       "    3           4 423.35788  4.799563  419.0855 6.7865486 427.63293 6.7886667   \n",
       "    4          15  722.5178  8.301497  685.8678 11.732637  759.2611 11.747558   \n",
       "    5          15 1415.0105 20.677141 1405.6847 29.239077   1424.34  29.24471   \n",
       "\n",
       "       N(+)  N(-)  \n",
       "H K L              \n",
       "2 1 1    64    64  \n",
       "    2    64    64  \n",
       "    3    64    64  \n",
       "    4    64    64  \n",
       "    5    40    40  "
      ]
     },
     "execution_count": 8,
     "metadata": {},
     "output_type": "execute_result"
    }
   ],
   "source": [
    "refltable.head()"
   ]
  },
  {
   "cell_type": "code",
   "execution_count": 9,
   "metadata": {},
   "outputs": [],
   "source": [
    "# 3. Convert intensities to structure factor amplitudes\n",
    "refltable[\"F(+)\"] = rs.CrystalSeries(np.sqrt(refltable[\"I(+)\"].to_numpy()), dtype=\"SFAmplitudeFriedel\").values\n",
    "refltable[\"F(-)\"] = rs.CrystalSeries(np.sqrt(refltable[\"I(-)\"].to_numpy()), dtype=\"SFAmplitudeFriedel\").values\n",
    "refltable[\"SIGF(+)\"] = rs.CrystalSeries(np.sqrt(refltable[\"SIGI(+)\"].to_numpy()), dtype=\"StddevSFFriedel\").values\n",
    "refltable[\"SIGF(-)\"] = rs.CrystalSeries(np.sqrt(refltable[\"SIGI(-)\"].to_numpy()), dtype=\"StddevSFFriedel\").values"
   ]
  },
  {
   "cell_type": "code",
   "execution_count": 10,
   "metadata": {},
   "outputs": [],
   "source": [
    "# 4. Compute differences\n",
    "dF    = refltable[\"F(+)\"].to_numpy() - refltable[\"F(-)\"].to_numpy()\n",
    "sigDF = np.sqrt(refltable[\"SIGF(+)\"].to_numpy()**2 + refltable[\"SIGF(-)\"].to_numpy()**2)\n",
    "refltable[\"dF\"] = rs.CrystalSeries(dF, name=\"dF\", dtype=\"SFAmplitude\").values\n",
    "refltable[\"SigDF\"] = rs.CrystalSeries(sigDF, name=\"SigDF\", dtype=\"Stddev\").values"
   ]
  },
  {
   "cell_type": "code",
   "execution_count": 11,
   "metadata": {},
   "outputs": [
    {
     "data": {
      "text/html": [
       "<div>\n",
       "<style scoped>\n",
       "    .dataframe tbody tr th:only-of-type {\n",
       "        vertical-align: middle;\n",
       "    }\n",
       "\n",
       "    .dataframe tbody tr th {\n",
       "        vertical-align: top;\n",
       "    }\n",
       "\n",
       "    .dataframe thead th {\n",
       "        text-align: right;\n",
       "    }\n",
       "</style>\n",
       "<table border=\"1\" class=\"dataframe\">\n",
       "  <thead>\n",
       "    <tr style=\"text-align: right;\">\n",
       "      <th></th>\n",
       "      <th></th>\n",
       "      <th></th>\n",
       "      <th>F(+)</th>\n",
       "      <th>SIGF(+)</th>\n",
       "      <th>F(-)</th>\n",
       "      <th>SIGF(-)</th>\n",
       "      <th>dF</th>\n",
       "      <th>SigDF</th>\n",
       "    </tr>\n",
       "    <tr>\n",
       "      <th>H</th>\n",
       "      <th>K</th>\n",
       "      <th>L</th>\n",
       "      <th></th>\n",
       "      <th></th>\n",
       "      <th></th>\n",
       "      <th></th>\n",
       "      <th></th>\n",
       "      <th></th>\n",
       "    </tr>\n",
       "  </thead>\n",
       "  <tbody>\n",
       "    <tr>\n",
       "      <th rowspan=\"5\" valign=\"top\">2</th>\n",
       "      <th rowspan=\"5\" valign=\"top\">1</th>\n",
       "      <th>1</th>\n",
       "      <td>14.433254</td>\n",
       "      <td>1.7396708</td>\n",
       "      <td>13.822506</td>\n",
       "      <td>1.7386292</td>\n",
       "      <td>0.6107483</td>\n",
       "      <td>2.4595296</td>\n",
       "    </tr>\n",
       "    <tr>\n",
       "      <th>2</th>\n",
       "      <td>29.080002</td>\n",
       "      <td>3.7371716</td>\n",
       "      <td>30.292372</td>\n",
       "      <td>3.7381039</td>\n",
       "      <td>-1.2123699</td>\n",
       "      <td>5.285818</td>\n",
       "    </tr>\n",
       "    <tr>\n",
       "      <th>3</th>\n",
       "      <td>20.471579</td>\n",
       "      <td>2.6051004</td>\n",
       "      <td>20.679287</td>\n",
       "      <td>2.605507</td>\n",
       "      <td>-0.20770836</td>\n",
       "      <td>3.6844559</td>\n",
       "    </tr>\n",
       "    <tr>\n",
       "      <th>4</th>\n",
       "      <td>26.189077</td>\n",
       "      <td>3.4252937</td>\n",
       "      <td>27.554693</td>\n",
       "      <td>3.427471</td>\n",
       "      <td>-1.3656158</td>\n",
       "      <td>4.8456364</td>\n",
       "    </tr>\n",
       "    <tr>\n",
       "      <th>5</th>\n",
       "      <td>37.492462</td>\n",
       "      <td>5.407317</td>\n",
       "      <td>37.74043</td>\n",
       "      <td>5.407838</td>\n",
       "      <td>-0.24796677</td>\n",
       "      <td>7.6474695</td>\n",
       "    </tr>\n",
       "  </tbody>\n",
       "</table>\n",
       "</div>"
      ],
      "text/plain": [
       "           F(+)   SIGF(+)      F(-)   SIGF(-)          dF     SigDF\n",
       "H K L                                                              \n",
       "2 1 1 14.433254 1.7396708 13.822506 1.7386292   0.6107483 2.4595296\n",
       "    2 29.080002 3.7371716 30.292372 3.7381039  -1.2123699  5.285818\n",
       "    3 20.471579 2.6051004 20.679287  2.605507 -0.20770836 3.6844559\n",
       "    4 26.189077 3.4252937 27.554693  3.427471  -1.3656158 4.8456364\n",
       "    5 37.492462  5.407317  37.74043  5.407838 -0.24796677 7.6474695"
      ]
     },
     "execution_count": 11,
     "metadata": {},
     "output_type": "execute_result"
    }
   ],
   "source": [
    "# Drop extraneous columns\n",
    "refltable = refltable[[\"F(+)\", \"SIGF(+)\", \"F(-)\", \"SIGF(-)\", \"dF\", \"SigDF\"]]\n",
    "refltable.head()"
   ]
  },
  {
   "cell_type": "markdown",
   "metadata": {},
   "source": [
    "Let's plot the signal-to-noise of the observed anomalous difference signal"
   ]
  },
  {
   "cell_type": "code",
   "execution_count": 12,
   "metadata": {},
   "outputs": [],
   "source": [
    "%matplotlib inline\n",
    "import matplotlib.pyplot as plt"
   ]
  },
  {
   "cell_type": "code",
   "execution_count": 13,
   "metadata": {},
   "outputs": [
    {
     "data": {
      "image/png": "[encoded data removed]",
      "text/plain": [
       "<Figure size 648x432 with 1 Axes>"
      ]
     },
     "metadata": {
      "needs_background": "light"
     },
     "output_type": "display_data"
    }
   ],
   "source": [
    "plt.figure(figsize=(9, 6))\n",
    "plt.plot(refltable.dF.values, np.abs(refltable.dF.values)/refltable.SigDF.values, \"k.\", alpha=0.3)\n",
    "plt.xlim(-refltable.dF.abs().max(), refltable.dF.abs().max())\n",
    "plt.xlabel(r\"$F_{hkl}^{+} - F_{hkl}^{-}$\")\n",
    "plt.ylabel(r\"$\\frac{|F_{hkl}^{+} - F_{hkl}^{-}|}{\\sigma_{dF}}$\")\n",
    "plt.show()"
   ]
  },
  {
   "cell_type": "markdown",
   "metadata": {},
   "source": [
    "---\n",
    "### Obtaining Phases by Isomorphous Replacement\n",
    "\n",
    "In order to turn these anomalous differences into a map, we need to get phases. We will do that by isomorphous replacement with a published structure, [1VAT](https://www.rcsb.org/structure/1vat). Phases were generated from the PDB model using [fmodel](https://www.phenix-online.org/documentation/reference/fmodel.html), and then we will compute the necessary phase shifts in order to go from the conventional structure factor phases to phases associated with the anomalous scattering contributions. "
   ]
  },
  {
   "cell_type": "code",
   "execution_count": 14,
   "metadata": {},
   "outputs": [],
   "source": [
    "ref = rs.read_mtz(\"data/1VAT_fmodel.mtz\")"
   ]
  },
  {
   "cell_type": "code",
   "execution_count": 15,
   "metadata": {},
   "outputs": [
    {
     "data": {
      "text/html": [
       "<div>\n",
       "<style scoped>\n",
       "    .dataframe tbody tr th:only-of-type {\n",
       "        vertical-align: middle;\n",
       "    }\n",
       "\n",
       "    .dataframe tbody tr th {\n",
       "        vertical-align: top;\n",
       "    }\n",
       "\n",
       "    .dataframe thead th {\n",
       "        text-align: right;\n",
       "    }\n",
       "</style>\n",
       "<table border=\"1\" class=\"dataframe\">\n",
       "  <thead>\n",
       "    <tr style=\"text-align: right;\">\n",
       "      <th></th>\n",
       "      <th></th>\n",
       "      <th></th>\n",
       "      <th>FMODEL</th>\n",
       "      <th>PHIFMODEL</th>\n",
       "    </tr>\n",
       "    <tr>\n",
       "      <th>H</th>\n",
       "      <th>K</th>\n",
       "      <th>L</th>\n",
       "      <th></th>\n",
       "      <th></th>\n",
       "    </tr>\n",
       "  </thead>\n",
       "  <tbody>\n",
       "    <tr>\n",
       "      <th rowspan=\"5\" valign=\"top\">0</th>\n",
       "      <th rowspan=\"5\" valign=\"top\">0</th>\n",
       "      <th>4</th>\n",
       "      <td>954.69275</td>\n",
       "      <td>180.0</td>\n",
       "    </tr>\n",
       "    <tr>\n",
       "      <th>8</th>\n",
       "      <td>1030.4215</td>\n",
       "      <td>-7.802343e-16</td>\n",
       "    </tr>\n",
       "    <tr>\n",
       "      <th>12</th>\n",
       "      <td>754.23175</td>\n",
       "      <td>4.4153507e-15</td>\n",
       "    </tr>\n",
       "    <tr>\n",
       "      <th>16</th>\n",
       "      <td>533.2781</td>\n",
       "      <td>0.0</td>\n",
       "    </tr>\n",
       "    <tr>\n",
       "      <th>20</th>\n",
       "      <td>5.3535447</td>\n",
       "      <td>0.0</td>\n",
       "    </tr>\n",
       "  </tbody>\n",
       "</table>\n",
       "</div>"
      ],
      "text/plain": [
       "          FMODEL     PHIFMODEL\n",
       "H K L                         \n",
       "0 0 4  954.69275         180.0\n",
       "    8  1030.4215 -7.802343e-16\n",
       "    12 754.23175 4.4153507e-15\n",
       "    16  533.2781           0.0\n",
       "    20 5.3535447           0.0"
      ]
     },
     "execution_count": 15,
     "metadata": {},
     "output_type": "execute_result"
    }
   ],
   "source": [
    "ref.head()"
   ]
  },
  {
   "cell_type": "code",
   "execution_count": 16,
   "metadata": {},
   "outputs": [
    {
     "data": {
      "text/plain": [
       "FMODEL       SFAmplitude\n",
       "PHIFMODEL          Phase\n",
       "dtype: object"
      ]
     },
     "execution_count": 16,
     "metadata": {},
     "output_type": "execute_result"
    }
   ],
   "source": [
    "ref.dtypes"
   ]
  },
  {
   "cell_type": "code",
   "execution_count": 17,
   "metadata": {},
   "outputs": [],
   "source": [
    "# Find common HKL indices\n",
    "hkls = refltable.index.intersection(ref.index)\n",
    "hkls = hkls.sort_values()\n",
    "refltable = refltable.loc[hkls]\n",
    "ref = ref.loc[hkls]"
   ]
  },
  {
   "cell_type": "code",
   "execution_count": 18,
   "metadata": {},
   "outputs": [
    {
     "name": "stdout",
     "output_type": "stream",
     "text": [
      "Number of reflections: 10328, 10328\n"
     ]
    }
   ],
   "source": [
    "print(f\"Number of reflections: {len(refltable)}, {len(refltable)}\")"
   ]
  },
  {
   "cell_type": "code",
   "execution_count": 19,
   "metadata": {},
   "outputs": [],
   "source": [
    "# This accounts for the phase shifts between the computed phases and the desired anomalous phases\n",
    "refltable[\"PHANOM\"] = ref[\"PHIFMODEL\"]\n",
    "refltable[\"PHANOM\"] = refltable.apply(lambda x: x[\"PHANOM\"] if x[\"dF\"] < 0 else 180+x[\"PHANOM\"], axis=1)\n",
    "refltable[\"PHANOM\"] += 90\n",
    "refltable[\"PHANOM\"] = rs.utils.canonicalize_phases(refltable[\"PHANOM\"].astype(\"Phase\"))\n",
    "\n",
    "# Using the convention above for the phase shift, we need to take the |Fanom|\n",
    "refltable[\"ANOM\"] = np.abs(refltable[\"dF\"]).astype(\"SFAmplitude\")/2"
   ]
  },
  {
   "cell_type": "code",
   "execution_count": 20,
   "metadata": {},
   "outputs": [],
   "source": [
    "refltable.write_mtz(\"data/anomdiff.mtz\")"
   ]
  },
  {
   "cell_type": "markdown",
   "metadata": {},
   "source": [
    "Looking at the map on the `1VAT` structure, we can see difference density on all of the sulfurs in HEWL. Here is an image of this density contoured at +5$\\sigma$:  \n",
    "\n",
    "![Anomalous Map](data/anomalousmap.png)"
   ]
  }
 ],
 "metadata": {
  "kernelspec": {
   "display_name": "Python 3",
   "language": "python",
   "name": "python3"
  },
  "language_info": {
   "codemirror_mode": {
    "name": "ipython",
    "version": 3
   },
   "file_extension": ".py",
   "mimetype": "text/x-python",
   "name": "python",
   "nbconvert_exporter": "python",
   "pygments_lexer": "ipython3",
   "version": "3.7.4"
  }
 },
 "nbformat": 4,
 "nbformat_minor": 2
}
