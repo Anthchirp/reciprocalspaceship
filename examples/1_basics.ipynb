{
 "cells": [
  {
   "cell_type": "markdown",
   "metadata": {},
   "source": [
    "# Basics"
   ]
  },
  {
   "cell_type": "markdown",
   "metadata": {},
   "source": [
    "`reciprocalspaceship` provides methods for reading and writing MTZ files, and can be easily used to join reflection data by Miller indices. We will demonstrate these uses by loading diffraction data of tetragonal hen egg-white lysozyme (HEWL)."
   ]
  },
  {
   "cell_type": "code",
   "execution_count": 1,
   "metadata": {},
   "outputs": [],
   "source": [
    "import reciprocalspaceship as rs"
   ]
  },
  {
   "cell_type": "markdown",
   "metadata": {},
   "source": [
    "This diffraction data was collected at the Sector 24-ID-C beamline at [NE-CAT](https://lilith.nec.aps.anl.gov/) at APS. Diffraction images were collected at ambient room temperature (295K), and low energy (6550 eV) in order to collect native sulfur anomalous diffraction for experimental phasing. The diffraction images were processed in [DIALS](https://dials.github.io/) for indexing, geometry refinement, and spot integration, and scaling and merging was done in [AIMLESS](http://www.ccp4.ac.uk/html/aimless.html). This data reduction yielded an MTZ file that is included in the `data/` subdirectory. Here, we will load the MTZ file and inspect its contents."
   ]
  },
  {
   "cell_type": "markdown",
   "metadata": {},
   "source": [
    "---\n",
    "### Loading reflection data"
   ]
  },
  {
   "cell_type": "markdown",
   "metadata": {},
   "source": [
    "Reflection tables can be loaded using the top-level function, `rs.read_mtz()`. This returns a `DataSet` object, that is analogous to a `pandas.DataFrame`. "
   ]
  },
  {
   "cell_type": "code",
   "execution_count": 2,
   "metadata": {},
   "outputs": [
    {
     "data": {
      "text/plain": [
       "'DataSet'"
      ]
     },
     "execution_count": 2,
     "metadata": {},
     "output_type": "execute_result"
    }
   ],
   "source": [
    "refltable = rs.read_mtz(\"data/HEWL_SSAD_24IDC.mtz\")\n",
    "type(refltable).__name__"
   ]
  },
  {
   "cell_type": "markdown",
   "metadata": {},
   "source": [
    "This reflection table was produced directly from `AIMLESS`, and contains several different data columns:"
   ]
  },
  {
   "cell_type": "code",
   "execution_count": 3,
   "metadata": {},
   "outputs": [
    {
     "data": {
      "text/html": [
       "<div>\n",
       "<style scoped>\n",
       "    .dataframe tbody tr th:only-of-type {\n",
       "        vertical-align: middle;\n",
       "    }\n",
       "\n",
       "    .dataframe tbody tr th {\n",
       "        vertical-align: top;\n",
       "    }\n",
       "\n",
       "    .dataframe thead th {\n",
       "        text-align: right;\n",
       "    }\n",
       "</style>\n",
       "<table border=\"1\" class=\"dataframe\">\n",
       "  <thead>\n",
       "    <tr style=\"text-align: right;\">\n",
       "      <th></th>\n",
       "      <th></th>\n",
       "      <th></th>\n",
       "      <th>FreeR_flag</th>\n",
       "      <th>IMEAN</th>\n",
       "      <th>SIGIMEAN</th>\n",
       "      <th>I(+)</th>\n",
       "      <th>SIGI(+)</th>\n",
       "      <th>I(-)</th>\n",
       "      <th>SIGI(-)</th>\n",
       "      <th>N(+)</th>\n",
       "      <th>N(-)</th>\n",
       "    </tr>\n",
       "    <tr>\n",
       "      <th>H</th>\n",
       "      <th>K</th>\n",
       "      <th>L</th>\n",
       "      <th></th>\n",
       "      <th></th>\n",
       "      <th></th>\n",
       "      <th></th>\n",
       "      <th></th>\n",
       "      <th></th>\n",
       "      <th></th>\n",
       "      <th></th>\n",
       "      <th></th>\n",
       "    </tr>\n",
       "  </thead>\n",
       "  <tbody>\n",
       "    <tr>\n",
       "      <th rowspan=\"5\" valign=\"top\">0</th>\n",
       "      <th rowspan=\"5\" valign=\"top\">0</th>\n",
       "      <th>4</th>\n",
       "      <td>14</td>\n",
       "      <td>671.0396</td>\n",
       "      <td>22.205784</td>\n",
       "      <td>671.0396</td>\n",
       "      <td>22.205784</td>\n",
       "      <td>671.0396</td>\n",
       "      <td>22.205784</td>\n",
       "      <td>16</td>\n",
       "      <td>16</td>\n",
       "    </tr>\n",
       "    <tr>\n",
       "      <th>8</th>\n",
       "      <td>4</td>\n",
       "      <td>3273.7385</td>\n",
       "      <td>107.59589</td>\n",
       "      <td>3273.7385</td>\n",
       "      <td>107.59589</td>\n",
       "      <td>3273.7385</td>\n",
       "      <td>107.59589</td>\n",
       "      <td>16</td>\n",
       "      <td>16</td>\n",
       "    </tr>\n",
       "    <tr>\n",
       "      <th>12</th>\n",
       "      <td>6</td>\n",
       "      <td>1367.5679</td>\n",
       "      <td>43.352566</td>\n",
       "      <td>1367.5679</td>\n",
       "      <td>43.352566</td>\n",
       "      <td>1367.5679</td>\n",
       "      <td>43.352566</td>\n",
       "      <td>16</td>\n",
       "      <td>16</td>\n",
       "    </tr>\n",
       "    <tr>\n",
       "      <th>16</th>\n",
       "      <td>19</td>\n",
       "      <td>4158.55</td>\n",
       "      <td>198.88382</td>\n",
       "      <td>4158.55</td>\n",
       "      <td>198.88382</td>\n",
       "      <td>4158.55</td>\n",
       "      <td>198.88382</td>\n",
       "      <td>8</td>\n",
       "      <td>8</td>\n",
       "    </tr>\n",
       "    <tr>\n",
       "      <th>20</th>\n",
       "      <td>8</td>\n",
       "      <td>2.4992087</td>\n",
       "      <td>5.7103205</td>\n",
       "      <td>2.4992087</td>\n",
       "      <td>5.7103205</td>\n",
       "      <td>2.4992087</td>\n",
       "      <td>5.7103205</td>\n",
       "      <td>1</td>\n",
       "      <td>1</td>\n",
       "    </tr>\n",
       "  </tbody>\n",
       "</table>\n",
       "</div>"
      ],
      "text/plain": [
       "        FreeR_flag     IMEAN  SIGIMEAN      I(+)   SIGI(+)      I(-)  \\\n",
       "H K L                                                                  \n",
       "0 0 4           14  671.0396 22.205784  671.0396 22.205784  671.0396   \n",
       "    8            4 3273.7385 107.59589 3273.7385 107.59589 3273.7385   \n",
       "    12           6 1367.5679 43.352566 1367.5679 43.352566 1367.5679   \n",
       "    16          19   4158.55 198.88382   4158.55 198.88382   4158.55   \n",
       "    20           8 2.4992087 5.7103205 2.4992087 5.7103205 2.4992087   \n",
       "\n",
       "         SIGI(-)  N(+)  N(-)  \n",
       "H K L                         \n",
       "0 0 4  22.205784    16    16  \n",
       "    8  107.59589    16    16  \n",
       "    12 43.352566    16    16  \n",
       "    16 198.88382     8     8  \n",
       "    20 5.7103205     1     1  "
      ]
     },
     "execution_count": 3,
     "metadata": {},
     "output_type": "execute_result"
    }
   ],
   "source": [
    "refltable.head()"
   ]
  },
  {
   "cell_type": "code",
   "execution_count": 4,
   "metadata": {},
   "outputs": [
    {
     "name": "stdout",
     "output_type": "stream",
     "text": [
      "Number of reflections: 12563\n"
     ]
    }
   ],
   "source": [
    "print(f\"Number of reflections: {len(refltable)}\")"
   ]
  },
  {
   "cell_type": "markdown",
   "metadata": {},
   "source": [
    "Internally, each of these data columns is stored using a custom `dtype` that was added to the conventional `pandas` and `numpy` datatypes. This enables `DataSet` reflection tables to be written back to MTZ files. There is a `dtype` for each of the possible datatypes listed in the [MTZ file specification](http://www.ccp4.ac.uk/html/f2mtz.html#CTYPOUT). "
   ]
  },
  {
   "cell_type": "code",
   "execution_count": 5,
   "metadata": {},
   "outputs": [
    {
     "data": {
      "text/plain": [
       "FreeR_flag              MTZInt\n",
       "IMEAN                Intensity\n",
       "SIGIMEAN                Stddev\n",
       "I(+)          FriedelIntensity\n",
       "SIGI(+)         StddevFriedelI\n",
       "I(-)          FriedelIntensity\n",
       "SIGI(-)         StddevFriedelI\n",
       "N(+)                    MTZInt\n",
       "N(-)                    MTZInt\n",
       "dtype: object"
      ]
     },
     "execution_count": 5,
     "metadata": {},
     "output_type": "execute_result"
    }
   ],
   "source": [
    "refltable.dtypes"
   ]
  },
  {
   "cell_type": "markdown",
   "metadata": {},
   "source": [
    "Additional crystallographic metadata is read from the MTZ file and can be stored as attributes of the `DataSet`. These include the crystallographic spacegroup and unit cell parameters, which are stored as `gemmi.SpaceGroup` and `gemmi.UnitCell` objects. "
   ]
  },
  {
   "cell_type": "code",
   "execution_count": 6,
   "metadata": {},
   "outputs": [
    {
     "data": {
      "text/plain": [
       "<gemmi.SpaceGroup(\"P 43 21 2\")>"
      ]
     },
     "execution_count": 6,
     "metadata": {},
     "output_type": "execute_result"
    }
   ],
   "source": [
    "refltable.spacegroup"
   ]
  },
  {
   "cell_type": "code",
   "execution_count": 7,
   "metadata": {},
   "outputs": [
    {
     "data": {
      "text/plain": [
       "<gemmi.UnitCell(79.3435, 79.3435, 37.8098, 90, 90, 90)>"
      ]
     },
     "execution_count": 7,
     "metadata": {},
     "output_type": "execute_result"
    }
   ],
   "source": [
    "refltable.cell"
   ]
  },
  {
   "cell_type": "markdown",
   "metadata": {},
   "source": [
    "---\n",
    "### Plotting reflection data\n",
    "\n",
    "For illustrative purposes, let's plot the $I(+)$ data against the $I(-)$ data"
   ]
  },
  {
   "cell_type": "code",
   "execution_count": 8,
   "metadata": {},
   "outputs": [],
   "source": [
    "%matplotlib inline\n",
    "import matplotlib.pyplot as plt"
   ]
  },
  {
   "cell_type": "code",
   "execution_count": 9,
   "metadata": {},
   "outputs": [
    {
     "data": {
      "image/png": "[encoded data removed]",
      "text/plain": [
       "<Figure size 432x432 with 1 Axes>"
      ]
     },
     "metadata": {
      "needs_background": "light"
     },
     "output_type": "display_data"
    }
   ],
   "source": [
    "plt.figure(figsize=(6, 6))\n",
    "plt.plot(refltable['I(+)'], refltable['I(-)'], 'k.', alpha=0.1)\n",
    "plt.xlabel(\"I(+)\")\n",
    "plt.ylabel(\"I(-)\")\n",
    "plt.show()"
   ]
  },
  {
   "cell_type": "markdown",
   "metadata": {},
   "source": [
    "In the [next example](2_mergingstats.ipynb), we will investigate this anomalous signal in more detail.  "
   ]
  },
  {
   "cell_type": "markdown",
   "metadata": {},
   "source": [
    "---\n",
    "### Writing Reflection Data\n",
    "\n",
    "It is also possible to write out MTZ files using `DataSet.write_mtz()`. This functionality depends on the correct setting of each column's `dtype`."
   ]
  },
  {
   "cell_type": "code",
   "execution_count": 10,
   "metadata": {},
   "outputs": [],
   "source": [
    "refltable.write_mtz(\"data/HEWL_SSAD_24IDC.mtz\")"
   ]
  }
 ],
 "metadata": {
  "kernelspec": {
   "display_name": "Python 3",
   "language": "python",
   "name": "python3"
  },
  "language_info": {
   "codemirror_mode": {
    "name": "ipython",
    "version": 3
   },
   "file_extension": ".py",
   "mimetype": "text/x-python",
   "name": "python",
   "nbconvert_exporter": "python",
   "pygments_lexer": "ipython3",
   "version": "3.8.5"
  }
 },
 "nbformat": 4,
 "nbformat_minor": 2
}
